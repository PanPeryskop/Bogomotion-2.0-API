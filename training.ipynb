{
 "cells": [
  {
   "cell_type": "code",
   "id": "5bbcd0ee332d520e",
   "metadata": {},
   "source": [
    "import torch"
   ],
   "outputs": [],
   "execution_count": null
  },
  {
   "cell_type": "code",
   "id": "8b270f712a3b0bc",
   "metadata": {},
   "source": [
    "print(\"CUDA available:\", torch.cuda.is_available())\n",
    "print(\"CUDA device count:\", torch.cuda.device_count())"
   ],
   "outputs": [],
   "execution_count": null
  },
  {
   "cell_type": "code",
   "id": "13e3636ae610e854",
   "metadata": {},
   "source": [
    "from ultralytics import YOLO"
   ],
   "outputs": [],
   "execution_count": null
  },
  {
   "cell_type": "code",
   "id": "46ac39844894ce19",
   "metadata": {},
   "source": [
    "# model = YOLO(\"yolo11m.pt\")\n",
    "model = YOLO(\"runs/detect/train13/weights/last.pt\")"
   ],
   "outputs": [],
   "execution_count": null
  },
  {
   "cell_type": "code",
   "id": "initial_id",
   "metadata": {},
   "source": [
    "train_results = model.train(\n",
    "    data=\"config.yaml\", \n",
    "    epochs=300,\n",
    "    imgsz=640,  \n",
    "    device='0',\n",
    "    batch=16, \n",
    ")"
   ],
   "outputs": [],
   "execution_count": null
  },
  {
   "cell_type": "code",
   "id": "64461f26e854130d",
   "metadata": {},
   "source": [
    "# model.export(format=\"onnx\")"
   ],
   "outputs": [],
   "execution_count": null
  },
  {
   "cell_type": "code",
   "id": "9391b816ca9168d3",
   "metadata": {},
   "source": [
    "# metrics = model.val()"
   ],
   "outputs": [],
   "execution_count": null
  }
 ],
 "metadata": {
  "kernelspec": {
   "display_name": ".venv",
   "language": "python",
   "name": "python3"
  },
  "language_info": {
   "codemirror_mode": {
    "name": "ipython",
    "version": 3
   },
   "file_extension": ".py",
   "mimetype": "text/x-python",
   "name": "python",
   "nbconvert_exporter": "python",
   "pygments_lexer": "ipython3",
   "version": "3.12.7"
  }
 },
 "nbformat": 4,
 "nbformat_minor": 5
}
